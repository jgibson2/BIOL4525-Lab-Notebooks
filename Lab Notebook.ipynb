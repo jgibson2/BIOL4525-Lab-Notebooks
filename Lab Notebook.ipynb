{
 "cells": [
  {
   "cell_type": "markdown",
   "metadata": {},
   "source": [
    "# Introduction (Day 1)\n",
    "\n",
    "* Goal: produce a publication-quality paper\n",
    "* Using PyMOL, must write scripts\n",
    "* Partners (yay! Hi Lily!)\n",
    "\n",
    "## Levels of Protein Structure\n",
    "* Primary -- sequence\n",
    "* Secondary -- structural motifs (beta strands, alpha helicies, etc.)\n",
    "* Tertiary -- overall structural shape\n",
    "* Quaternary structure -- linking of chains\n",
    "\n",
    "## Why care?\n",
    "Form and function are intrisically related in proteins (and other biological molecules). We can use X-ray crystallography to determine the structures of biological molecules by analyzing diffraction patterns.\n",
    "\n",
    "Chemical properites and reactions of the protein can be predicted from structure using various tools such as active site determination, clustering and sequence alignment, etc. However, convergent evolutions can lead to different structures having the same function, and divergence can lead to similar structures having different functions.\n",
    "\n",
    "Using structure, one can determine chemical mechanism, evolutionary relationships, protein-protein interactions, gene regulation; can perform protein engineering and drug design.\n",
    "\n",
    "## History\n",
    "* Watson and Crick, 1953 w/ Rosalind Franklin\n",
    "1962: _Chemistry_ Max Perutz, John Kendrew; _Medicine_ Francis Crick, James Watson, Maurice Wilkins"
   ]
  },
  {
   "cell_type": "code",
   "execution_count": null,
   "metadata": {
    "collapsed": true
   },
   "outputs": [],
   "source": []
  }
 ],
 "metadata": {
  "kernelspec": {
   "display_name": "Python 3",
   "language": "python",
   "name": "python3"
  }
 },
 "nbformat": 4,
 "nbformat_minor": 2
}
